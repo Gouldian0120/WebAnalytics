{
 "cells": [
  {
   "cell_type": "markdown",
   "metadata": {},
   "source": [
    "## Top Gutenberg Ebooks (yesterday's ranking) download\n",
    "* **This starter code scrapes the url of the Project Gutenberg's Top 100 ebooks (yesterday's ranking) for identifying the ebook links. **\n",
    "* **It uses BeautifulSoup4 for parsing the HTML and regular expression code for identifying the Top 100 ebook file numbers.**\n",
    "* **It includes a function to take an usser input on how many books to download and then crawls the server to download them in a dictionary object.**\n",
    "* **Finally, it also includes a function to save the downloaded Ebooks in as text files in a local directory**"
   ]
  },
  {
   "cell_type": "code",
   "execution_count": 59,
   "metadata": {},
   "outputs": [],
   "source": [
    "import urllib.request, urllib.parse, urllib.error\n",
    "from bs4 import BeautifulSoup\n",
    "import ssl\n",
    "import re"
   ]
  },
  {
   "cell_type": "markdown",
   "metadata": {},
   "source": [
    "#### Ignore SSL certificate errors"
   ]
  },
  {
   "cell_type": "code",
   "execution_count": 2,
   "metadata": {},
   "outputs": [],
   "source": [
    "# Ignore SSL certificate errors\n",
    "ctx = ssl.create_default_context()\n",
    "ctx.check_hostname = False\n",
    "ctx.verify_mode = ssl.CERT_NONE"
   ]
  },
  {
   "cell_type": "markdown",
   "metadata": {},
   "source": [
    "#### Read the HTML from the URL and pass on to BeautifulSoup"
   ]
  },
  {
   "cell_type": "code",
   "execution_count": 11,
   "metadata": {},
   "outputs": [
    {
     "name": "stdout",
     "output_type": "stream",
     "text": [
      "Opening the file connection to https://www.gutenberg.org/browse/scores/top\n",
      "Connection established and HTML parsed...\n"
     ]
    }
   ],
   "source": [
    "# Read the HTML from the URL and pass on to BeautifulSoup\n",
    "top100url = 'https://www.gutenberg.org/browse/scores/top'\n",
    "url = top100url\n",
    "print(f\"Opening the file connection to {url}\")\n",
    "html = urllib.request.urlopen(url, context=ctx).read()\n",
    "soup = BeautifulSoup(html, 'html.parser')\n",
    "print(\"Connection established and HTML parsed...\")"
   ]
  },
  {
   "cell_type": "markdown",
   "metadata": {},
   "source": [
    "#### Find all the _'href'_ tags and store them in the list of links"
   ]
  },
  {
   "cell_type": "code",
   "execution_count": 53,
   "metadata": {},
   "outputs": [],
   "source": [
    "# Empty list to hold all the http links in the HTML page\n",
    "lst_links=[]"
   ]
  },
  {
   "cell_type": "code",
   "execution_count": 54,
   "metadata": {},
   "outputs": [],
   "source": [
    "# Find all the href tags and store them in the list of links\n",
    "for link in soup.find_all('a'):\n",
    "    #print(link.get('href'))\n",
    "    lst_links.append(link.get('href'))"
   ]
  },
  {
   "cell_type": "markdown",
   "metadata": {},
   "source": [
    "#### Use regular expression to find the numeric digits in these links. These are the file number for the Top 100 books."
   ]
  },
  {
   "cell_type": "code",
   "execution_count": 14,
   "metadata": {},
   "outputs": [],
   "source": [
    "# Use regular expression to find the numeric digits in these links. These are the file number for the Top 100 books. \n",
    "# Initialize empty list to hold the file numbers\n",
    "booknum=[]"
   ]
  },
  {
   "cell_type": "code",
   "execution_count": 15,
   "metadata": {},
   "outputs": [
    {
     "name": "stdout",
     "output_type": "stream",
     "text": [
      "\n",
      "The file numbers for the top 100 ebooks on Gutenberg are shown below\n",
      "----------------------------------------------------------------------\n",
      "[1342, 219, 56633, 11, 84, 98, 844, 1661, 2701, 76, 56630, 345, 5200, 2591, 30254, 74, 27827, 2542, 1232, 2600, 4300, 158, 1400, 56632, 6130, 1184, 1952, 174, 43, 5740, 1260, 16, 56623, 135, 768, 3207, 829, 1322, 161, 16328, 28054, 30360, 408, 1497, 4363, 244, 2274, 56625, 2680, 2554, 3600, 100, 147, 120, 23, 2500, 56626, 863, 1080, 20203, 10, 2852, 56612, 2814, 1399, 28520, 46, 205, 19942, 1404, 1934, 3090, 56635, 20228, 3296, 45, 5739, 35, 55, 56634, 56628, 1112, 25305, 36, 730, 33283, 203, 514, 521, 851, 34901, 308, 1998, 56620, 42, 209, 2097, 236, 1228, 20]\n"
     ]
    }
   ],
   "source": [
    "# Number 19 to 119 in the original list of links have the Top 100 books' number.\n",
    "for i in range(19,119):\n",
    "\tlink=lst_links[i]\n",
    "\tlink=link.strip()\n",
    "\t# Regular expression to find the numeric digits in the link (href) string\n",
    "\tn=re.findall('[0-9]+',link)\n",
    "\tif len(n)==1:\n",
    "\t\t# Append the filenumber casted as integer\n",
    "\t\tbooknum.append(int(n[0]))\n",
    "\n",
    "print (\"\\nThe file numbers for the top 100 ebooks on Gutenberg are shown below\\n\"+\"-\"*70)\n",
    "print(booknum)"
   ]
  },
  {
   "cell_type": "markdown",
   "metadata": {},
   "source": [
    "#### Search in the extracted text (using Regular Expression) from thr soup object to find the names of top 100 Ebooks (Yesterday's rank)"
   ]
  },
  {
   "cell_type": "code",
   "execution_count": 83,
   "metadata": {},
   "outputs": [],
   "source": [
    "start_idx=soup.text.splitlines().index('Top 100 EBooks yesterday')\n",
    "lst_titles_temp=[] # Empty list of Ebook names\n",
    "for i in range(100):\n",
    "    lst_titles_temp.append(soup.text.splitlines()[start_idx+2+i])"
   ]
  },
  {
   "cell_type": "code",
   "execution_count": 87,
   "metadata": {},
   "outputs": [
    {
     "name": "stdout",
     "output_type": "stream",
     "text": [
      "Pride and Prejudice by Jane Austen \n",
      "Heart of Darkness by Joseph Conrad \n",
      "The City That Was by Stephen Smith \n",
      "Alice\n",
      "Frankenstein\n",
      "A Tale of Two Cities by Charles Dickens \n",
      "The Importance of Being Earnest\n",
      "The Adventures of Sherlock Holmes by Arthur Conan Doyle \n",
      "Moby Dick\n",
      "Adventures of Huckleberry Finn by Mark Twain \n",
      "Rome by W\n",
      "Dracula by Bram Stoker \n",
      "Metamorphosis by Franz Kafka \n",
      "Grimms\n",
      "The Romance of Lust\n",
      "The Adventures of Tom Sawyer by Mark Twain \n",
      "The Kama Sutra of Vatsyayana by Vatsyayana \n",
      "Et dukkehjem\n",
      "Il Principe\n",
      "War and Peace by graf Leo Tolstoy \n",
      "Ulysses by James Joyce \n",
      "Emma by Jane Austen \n",
      "Great Expectations by Charles Dickens \n",
      "Two Little Women and Treasure House by Carolyn Wells \n",
      "The Iliad by Homer \n",
      "The Count of Monte Cristo\n",
      "The Yellow Wallpaper by Charlotte Perkins Gilman \n",
      "The Picture of Dorian Gray by Oscar Wilde \n",
      "The Strange Case of Dr\n",
      "Tractatus Logico\n",
      "Jane Eyre\n",
      "Peter Pan by J\n",
      "Quaint Korea by Louise Jordan Miln \n",
      "Les Mis\n",
      "Wuthering Heights by Emily Bront\n",
      "Leviathan by Thomas Hobbes \n",
      "Gulliver\n",
      "Leaves of Grass by Walt Whitman \n",
      "Sense and Sensibility by Jane Austen \n",
      "Beowulf\n",
      "The Brothers Karamazov by Fyodor Dostoyevsky \n",
      "My Secret Life\n",
      "The Souls of Black Folk by W\n",
      "The Republic by Plato \n",
      "Beyond Good and Evil by Friedrich Wilhelm Nietzsche \n",
      "A Study in Scarlet by Arthur Conan Doyle \n",
      "How to Live on \n",
      "Songs of the West by S\n",
      "Meditations by Emperor of Rome Marcus Aurelius \n",
      "Prestuplenie i nakazanie\n",
      "Essays of Michel de Montaigne \n",
      "The Complete Works of William Shakespeare by William Shakespeare \n",
      "Common Sense by Thomas Paine \n",
      "Treasure Island by Robert Louis Stevenson \n",
      "Narrative of the Life of Frederick Douglass\n",
      "Siddhartha by Hermann Hesse \n",
      "Johnny Nelson by Clarence Edward Mulford \n",
      "The Mysterious Affair at Styles by Agatha Christie \n",
      "A Modest Proposal by Jonathan Swift \n",
      "Autobiography of Benjamin Franklin by Benjamin Franklin \n",
      "The King James Version of the Bible \n",
      "The Hound of the Baskervilles by Arthur Conan Doyle \n",
      "My Story by Anson Mills \n",
      "Dubliners by James Joyce \n",
      "Anna Karenina by graf Leo Tolstoy \n",
      "Forbidden Fruit by Anonymous \n",
      "A Christmas Carol in Prose\n",
      "Walden\n",
      "Candide by Voltaire \n",
      "The Federalist Papers by Alexander Hamilton and John Jay and James Madison \n",
      "Songs of Innocence\n",
      "Complete Original Short Stories of Guy De Maupassant by Guy de Maupassant \n",
      "The Girl\n",
      "Noli Me Tangere by Jos\n",
      "The Confessions of St\n",
      "Anne of Green Gables by L\n",
      "Korean\n",
      "The Time Machine by H\n",
      "The Wonderful Wizard of Oz by L\n",
      "The Monist\n",
      "An Essay on Colophons by Alfred W\n",
      "The Tragedy of Romeo and Juliet by William Shakespeare \n",
      "Memoirs Of Fanny Hill by John Cleland \n",
      "The War of the Worlds by H\n",
      "Oliver Twist by Charles Dickens \n",
      "Calculus Made Easy by Silvanus P\n",
      "Uncle Tom\n",
      "Little Women by Louisa May Alcott \n",
      "The Life and Adventures of Robinson Crusoe by Daniel Defoe \n",
      "Narrative of the Captivity and Restoration of Mrs\n",
      "On Liberty by John Stuart Mill \n",
      "Three Men in a Boat by Jerome K\n",
      "Also sprach Zarathustra\n",
      "Ruby Roland\n",
      "The Strange Case of Dr\n",
      "The Turn of the Screw by Henry James \n",
      "The Sign of the Four by Arthur Conan Doyle \n",
      "The Jungle Book by Rudyard Kipling \n",
      "On the origin of species by Charles Darwin \n",
      "Paradise Lost by John Milton \n"
     ]
    }
   ],
   "source": [
    "# Use regular expression to extract only text from the name strings and append to an empty list\n",
    "lst_titles=[]\n",
    "for i in range(100):\n",
    "    id1,id2=re.match('^[a-zA-Z ]*',lst_titles_temp[i]).span()\n",
    "    lst_titles.append(lst_titles_temp[i][id1:id2])\n",
    "for l in lst_titles:\n",
    "    print(l)"
   ]
  },
  {
   "cell_type": "markdown",
   "metadata": {},
   "source": [
    "### Define a function that takes an user input of how many top books to download and crawls the server to download"
   ]
  },
  {
   "cell_type": "code",
   "execution_count": 273,
   "metadata": {
    "code_folding": []
   },
   "outputs": [],
   "source": [
    "def download_top_books(num_download=10,verbosity=0):\n",
    "    \"\"\"\n",
    "    Function: Download top N books from Gutenberg.org where N is specified by user\n",
    "    Verbosity: If verbosity is turned on (set to 1) then prints the downloading status for every book\n",
    "    Returns: Returns a dictionary where keys are the names of the books and values are the raw text.\n",
    "    Exception Handling: If a book is not found on the server (due to broken link or whatever reason), inserts \"NOT FOUND\" as the text.\n",
    "    \"\"\"\n",
    "    topEBooks = {}\n",
    "    \n",
    "    if num_download<=0:\n",
    "        print(\"I guess no download is necessary\")\n",
    "        return topEBooks\n",
    "    \n",
    "    if num_download>100:\n",
    "        print(\"You asked for more than 100 downloads.\\nUnfortunately, Gutenberg ranks only top 100 books.\\nProceeding to download top 100 books.\")\n",
    "        num_download=100\n",
    "    \n",
    "    # Base URL for files repository\n",
    "    baseurl= 'http://www.gutenberg.org/files/'\n",
    "    \n",
    "    if verbosity==1:\n",
    "        count_done=0\n",
    "        for i in range(num_download):\n",
    "            print (\"Working on book:\", lst_titles[i])\n",
    "            \n",
    "            # Create the proper download link (url) from the book id\n",
    "            # You have to examine the Gutenberg.org file structure carefully to come up with the proper url\n",
    "            bookid=booknum[i]\n",
    "            bookurl= baseurl+str(bookid)+'/'+str(bookid)+'-0.txt'\n",
    "            # Create a file handler object\n",
    "            try:\n",
    "                fhand = urllib.request.urlopen(bookurl)\n",
    "                txt_dump = ''\n",
    "                # Iterate over the lines in the file handler object and dump the data into the text string\n",
    "                for line in fhand:\n",
    "                    # Use decode method to convert the UTF-8 to Unicode string\n",
    "                    txt_dump+=line.decode()\n",
    "                # Add downloaded text to the dictionary with keys matching the list of book titles.\n",
    "                # This puts the raw text as the value of the key of the dictionary bearing the name of the Ebook \n",
    "                topEBooks[lst_titles[i]]=txt_dump\n",
    "                count_done+=1\n",
    "                print (f\"Finished downloading {round(100*count_done/num_download,2)}%\")\n",
    "            except urllib.error.URLError as e:\n",
    "                topEBooks[lst_titles[i]]=\"NOT FOUND\"\n",
    "                count_done+=1\n",
    "                print(f\"ERROR: {lst_titles[i]} {e.reason}\")\n",
    "    else:\n",
    "        count_done=0\n",
    "        from tqdm import tqdm, tqdm_notebook\n",
    "        for i in tqdm(range(num_download),desc='Download % completed',dynamic_ncols=True):\n",
    "            # Create the proper download link (url) from the book id\n",
    "            # You have to examine the Gutenberg.org file structure carefully to come up with the proper url\n",
    "            bookid=booknum[i]\n",
    "            bookurl= baseurl+str(bookid)+'/'+str(bookid)+'-0.txt'\n",
    "            # Create a file handler object\n",
    "            try:\n",
    "                fhand = urllib.request.urlopen(bookurl)\n",
    "                txt_dump = ''\n",
    "                # Iterate over the lines in the file handler object and dump the data into the text string\n",
    "                for line in fhand:\n",
    "                    # Use decode method to convert the UTF-8 to Unicode string\n",
    "                    txt_dump+=line.decode()\n",
    "                # Add downloaded text to the dictionary with keys matching the list of book titles.\n",
    "                # This puts the raw text as the value of the key of the dictionary bearing the name of the Ebook \n",
    "                topEBooks[lst_titles[i]]=txt_dump\n",
    "                count_done+=1\n",
    "            except urllib.error.URLError as e:\n",
    "                topEBooks[lst_titles[i]]=\"NOT FOUND\"\n",
    "                count_done+=1\n",
    "                print(f\"ERROR: {lst_titles[i]} {e.reason}\")\n",
    "        \n",
    "    print (\"-\"*40+\"\\nFinished downloading all books!\\n\"+\"-\"*40)\n",
    "       \n",
    "    return (topEBooks)"
   ]
  },
  {
   "cell_type": "markdown",
   "metadata": {},
   "source": [
    "#### Test the function with verbosity=0 (default)"
   ]
  },
  {
   "cell_type": "code",
   "execution_count": 269,
   "metadata": {},
   "outputs": [
    {
     "name": "stderr",
     "output_type": "stream",
     "text": [
      "Download % completed: 100%|██████████████████████████████████████████████████████████████| 1/1 [00:04<00:00,  4.37s/it]\n"
     ]
    },
    {
     "name": "stdout",
     "output_type": "stream",
     "text": [
      "----------------------------------------\n",
      "Finished downloading all books!\n",
      "----------------------------------------\n"
     ]
    }
   ],
   "source": [
    "dict_books=download_top_books(1)"
   ]
  },
  {
   "cell_type": "markdown",
   "metadata": {},
   "source": [
    "#### Test the function with verbosity=1"
   ]
  },
  {
   "cell_type": "code",
   "execution_count": 272,
   "metadata": {},
   "outputs": [
    {
     "name": "stdout",
     "output_type": "stream",
     "text": [
      "You asked for more than 100 downloads. \n",
      "Unfortunately, Gutenberg ranks only top 100 books.\n",
      "Proceeding to download 100 books.\n"
     ]
    }
   ],
   "source": [
    "dict_books=download_top_books(105,1)"
   ]
  },
  {
   "cell_type": "markdown",
   "metadata": {},
   "source": [
    "#### Show the final dictionary and an example of the downloaded text"
   ]
  },
  {
   "cell_type": "code",
   "execution_count": 205,
   "metadata": {},
   "outputs": [
    {
     "name": "stdout",
     "output_type": "stream",
     "text": [
      "﻿The Project Gutenberg EBook of Heart of Darkness, by Joseph Conrad\n",
      "\n",
      "This eBook is for the use of anyone anywhere at no cost and with\n",
      "almost no restrictions whatsoever.  You may copy it, give it away or\n",
      "re-use it under the terms of the Project Gutenberg License included\n",
      "with this eBook or online at www.gutenberg.org\n",
      "\n",
      "\n",
      "Title: Heart of Darkness\n",
      "\n",
      "Author: Joseph Conrad\n",
      "\n",
      "Release Date: February 1995 [EBook #219]\n",
      "Last Updated: September 7, 2016\n",
      "\n",
      "Language: English\n",
      "\n",
      "Character set encoding: UTF-8\n",
      "\n",
      "*** START OF THIS PROJECT GUTENBERG EBOOK HEART OF DARKNESS ***\n",
      "\n",
      "\n",
      "\n",
      "\n",
      "Produced by Judith Boss and David Widger\n",
      "\n",
      "\n",
      "\n",
      "\n",
      "\n",
      "HEART OF DARKNESS\n",
      "\n",
      "By Joseph Conrad\n",
      "\n",
      "\n",
      "\n",
      "\n",
      "I\n",
      "\n",
      "\n",
      "The Nellie, a cruising yawl, swung to her anchor without a flutter of\n",
      "the sails, and was at rest. The flood had made, the wind was nearly\n",
      "calm, and being bound down the river, the only thing for it was to come\n",
      "to and wait for the turn of the tide.\n",
      "\n",
      "The sea-reach of the Thames stretched before us like the beginning of\n",
      "an interminable waterway. In the offing the sea and the sky were welded\n",
      "together without a joint, and in the luminous space the tanned sails\n",
      "of the barges drifting up with the tide seemed to stand still in red\n",
      "clusters of canvas sharply peaked, with gleams of varnished sprits. A\n",
      "haze rested on the low shores that ran out to sea in vanishing flatness.\n",
      "The air was dark above Gravesend, and farther back still seemed\n",
      "condensed into a mournful gloom, brooding motionless over the\n"
     ]
    }
   ],
   "source": [
    "print(dict_books[lst_titles[1]][:1500])"
   ]
  },
  {
   "cell_type": "markdown",
   "metadata": {},
   "source": [
    "### Write a function to download and save the downloaded texts"
   ]
  },
  {
   "cell_type": "code",
   "execution_count": 290,
   "metadata": {
    "code_folding": []
   },
   "outputs": [],
   "source": [
    "def save_text_files(num_download=10,verbosity=1):\n",
    "    \"\"\"\n",
    "    Downloads top N books from Gutenberg.org where N is specified by user.\n",
    "    If verbosity is turned on (set to 1) then prints the downloading status for every book.\n",
    "    Asks user for a location on computer where to save the downloaded Ebooks and process accordingly.\n",
    "    Returns status message indicating how many ebooks could be successfully downloaded and saved\n",
    "    \"\"\"\n",
    "    \n",
    "    import os\n",
    "    \n",
    "    # Download the Ebooks and save in a dictionary object (in-memory)\n",
    "    dict_books=download_top_books(num_download=num_download,verbosity=verbosity)\n",
    "    \n",
    "    if dict_books=={}:\n",
    "        return None\n",
    "    \n",
    "    # Ask use for a save location (directory path)\n",
    "    savelocation=input(\"Please enter a folder location to save the Ebooks in:\")\n",
    "    \n",
    "    count_successful_download=0\n",
    "    \n",
    "    # Create a default folder/directory in the current working directory if the input is blank\n",
    "    if (len(savelocation)<1):\n",
    "        savelocation=os.getcwd()+'\\\\'+'Ebooks'+'\\\\'\n",
    "        # Creates new directory if the directory does not exist. Otherwise, just use the existing path.\n",
    "        if not os.path.isdir(savelocation):\n",
    "            os.mkdir(savelocation)\n",
    "    else:\n",
    "        if savelocation[-1]=='\\\\':\n",
    "            os.mkdir(savelocation)\n",
    "        else:\n",
    "            os.mkdir(savelocation+'\\\\')\n",
    "    #print(\"Saving files at:\",savelocation)\n",
    "    for k,v in dict_books.items():\n",
    "        if (v!=\"NOT FOUND\"):\n",
    "            filename=savelocation+str(k)+'.txt'\n",
    "            file=open(filename,'wb')\n",
    "            file.write(v.encode(\"UTF-8\",'ignore'))\n",
    "            file.close()\n",
    "            count_successful_download+=1\n",
    "    \n",
    "    # Status message\n",
    "    print (f\"{count_successful_download} book(s) was/were successfully downloaded and saved to the location {savelocation}\")\n",
    "    if (num_download!=count_successful_download):\n",
    "        print(f\"{num_download-count_successful_download} books were not found on the server!\")"
   ]
  },
  {
   "cell_type": "code",
   "execution_count": 289,
   "metadata": {},
   "outputs": [
    {
     "name": "stdout",
     "output_type": "stream",
     "text": [
      "Working on book: Pride and Prejudice by Jane Austen \n",
      "Finished downloading 33.33%\n",
      "Working on book: Heart of Darkness by Joseph Conrad \n",
      "Finished downloading 66.67%\n",
      "Working on book: The City That Was by Stephen Smith \n",
      "Finished downloading 100.0%\n",
      "----------------------------------------\n",
      "Finished downloading all books!\n",
      "----------------------------------------\n",
      "Please enter a folder location to save the Ebooks in:\n",
      "3 book(s) was/were successfully downloaded and saved to the location C:\\Users\\Tirtha\\Documents\\Personal\\Data Science related\\Gits and Projects\\PythonScripts\\WebDataAnalytics\\Ebooks\\\n"
     ]
    }
   ],
   "source": [
    "save_text_files(3,1)"
   ]
  }
 ],
 "metadata": {
  "kernelspec": {
   "display_name": "Python 3",
   "language": "python",
   "name": "python3"
  },
  "language_info": {
   "codemirror_mode": {
    "name": "ipython",
    "version": 3
   },
   "file_extension": ".py",
   "mimetype": "text/x-python",
   "name": "python",
   "nbconvert_exporter": "python",
   "pygments_lexer": "ipython3",
   "version": "3.6.2"
  },
  "latex_envs": {
   "LaTeX_envs_menu_present": true,
   "autoclose": false,
   "autocomplete": true,
   "bibliofile": "biblio.bib",
   "cite_by": "apalike",
   "current_citInitial": 1,
   "eqLabelWithNumbers": true,
   "eqNumInitial": 1,
   "hotkeys": {
    "equation": "Ctrl-E",
    "itemize": "Ctrl-I"
   },
   "labels_anchors": false,
   "latex_user_defs": false,
   "report_style_numbering": false,
   "user_envs_cfg": false
  }
 },
 "nbformat": 4,
 "nbformat_minor": 2
}
