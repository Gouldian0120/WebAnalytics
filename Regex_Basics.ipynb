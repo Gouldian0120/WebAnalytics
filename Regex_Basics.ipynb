{
 "cells": [
  {
   "cell_type": "markdown",
   "metadata": {},
   "source": [
    "# Basic usage of Regular Expressions (aka _regex_)\n",
    "\n",
    "Regular expressions are used to identify whether a pattern exists in a given sequence of characters (string) or not. They help in manipulating textual data, which is often a pre-requisite for data science projects that involve text mining."
   ]
  },
  {
   "cell_type": "code",
   "execution_count": 2,
   "metadata": {},
   "outputs": [],
   "source": [
    "import re"
   ]
  },
  {
   "cell_type": "markdown",
   "metadata": {},
   "source": [
    "### Use `match` method to check if a pattern matches a string/sequence. It is case-sensitive."
   ]
  },
  {
   "cell_type": "code",
   "execution_count": 3,
   "metadata": {},
   "outputs": [],
   "source": [
    "string1 = 'Python'\n",
    "pattern = r\"Python\""
   ]
  },
  {
   "cell_type": "code",
   "execution_count": 4,
   "metadata": {},
   "outputs": [
    {
     "name": "stdout",
     "output_type": "stream",
     "text": [
      "Matches!\n"
     ]
    }
   ],
   "source": [
    "if re.match(pattern,string1):\n",
    "    print(\"Matches!\")\n",
    "else:\n",
    "    print(\"Doesn't match.\")"
   ]
  },
  {
   "cell_type": "code",
   "execution_count": 5,
   "metadata": {},
   "outputs": [],
   "source": [
    "string2 = 'python'"
   ]
  },
  {
   "cell_type": "code",
   "execution_count": 6,
   "metadata": {},
   "outputs": [
    {
     "name": "stdout",
     "output_type": "stream",
     "text": [
      "Doesn't match.\n"
     ]
    }
   ],
   "source": [
    "if re.match(pattern,string2):\n",
    "    print(\"Matches!\")\n",
    "else:\n",
    "    print(\"Doesn't match.\")"
   ]
  },
  {
   "cell_type": "markdown",
   "metadata": {},
   "source": [
    "### Instead of repeating the code, we can use `compile` to create a regex program and use methods"
   ]
  },
  {
   "cell_type": "code",
   "execution_count": 7,
   "metadata": {},
   "outputs": [
    {
     "data": {
      "text/plain": [
       "<_sre.SRE_Match object; span=(0, 6), match='Python'>"
      ]
     },
     "execution_count": 7,
     "metadata": {},
     "output_type": "execute_result"
    }
   ],
   "source": [
    "prog = re.compile(pattern)\n",
    "prog.match(string1)"
   ]
  },
  {
   "cell_type": "markdown",
   "metadata": {},
   "source": [
    "### So compiled progarms return special object e.g. `match` objects. But if they don't match it will return `None`, so we can still run our conditional loop!"
   ]
  },
  {
   "cell_type": "code",
   "execution_count": 8,
   "metadata": {},
   "outputs": [
    {
     "name": "stdout",
     "output_type": "stream",
     "text": [
      "Matches!\n"
     ]
    }
   ],
   "source": [
    "prog = re.compile(pattern)\n",
    "if prog.match(string1)!=None:\n",
    "    print(\"Matches!\")\n",
    "else:\n",
    "    print(\"Doesn't match.\")"
   ]
  },
  {
   "cell_type": "code",
   "execution_count": 9,
   "metadata": {},
   "outputs": [
    {
     "name": "stdout",
     "output_type": "stream",
     "text": [
      "Doesn't match.\n"
     ]
    }
   ],
   "source": [
    "if prog.match(string2)!=None:\n",
    "    print(\"Matches!\")\n",
    "else:\n",
    "    print(\"Doesn't match.\")"
   ]
  },
  {
   "cell_type": "markdown",
   "metadata": {},
   "source": [
    "### Use additional parameters in `match` to check for positional matching\n",
    "The following example matches **`y`** for the 2nd position (index/pos 1)"
   ]
  },
  {
   "cell_type": "code",
   "execution_count": 10,
   "metadata": {},
   "outputs": [],
   "source": [
    "prog = re.compile(r'y')"
   ]
  },
  {
   "cell_type": "code",
   "execution_count": 11,
   "metadata": {},
   "outputs": [
    {
     "data": {
      "text/plain": [
       "<_sre.SRE_Match object; span=(1, 2), match='y'>"
      ]
     },
     "execution_count": 11,
     "metadata": {},
     "output_type": "execute_result"
    }
   ],
   "source": [
    "prog.match('Python',pos=1)"
   ]
  },
  {
   "cell_type": "code",
   "execution_count": 12,
   "metadata": {},
   "outputs": [],
   "source": [
    "prog = re.compile(r'thon')"
   ]
  },
  {
   "cell_type": "code",
   "execution_count": 13,
   "metadata": {},
   "outputs": [
    {
     "data": {
      "text/plain": [
       "<_sre.SRE_Match object; span=(2, 6), match='thon'>"
      ]
     },
     "execution_count": 13,
     "metadata": {},
     "output_type": "execute_result"
    }
   ],
   "source": [
    "prog.match('Python',pos=2)"
   ]
  },
  {
   "cell_type": "code",
   "execution_count": 14,
   "metadata": {},
   "outputs": [
    {
     "data": {
      "text/plain": [
       "<_sre.SRE_Match object; span=(4, 8), match='thon'>"
      ]
     },
     "execution_count": 14,
     "metadata": {},
     "output_type": "execute_result"
    }
   ],
   "source": [
    "prog.match('Marathon',pos=4)"
   ]
  },
  {
   "cell_type": "markdown",
   "metadata": {},
   "source": [
    "### Let's see a use case. Find out how many words in a list has last three letters with 'ing'"
   ]
  },
  {
   "cell_type": "code",
   "execution_count": 15,
   "metadata": {},
   "outputs": [
    {
     "name": "stdout",
     "output_type": "stream",
     "text": [
      "Spring has last three letters 'ing'\n",
      "Cycling has last three letters 'ing'\n",
      "Ringtone does not have last three letter as 'ing'\n"
     ]
    }
   ],
   "source": [
    "prog = re.compile(r'ing')\n",
    "words = ['Spring','Cycling','Ringtone']\n",
    "for w in words:\n",
    "    if prog.match(w,pos=len(w)-3)!=None:\n",
    "        print(\"{} has last three letters 'ing'\".format(w))\n",
    "    else:\n",
    "        print(\"{} does not have last three letter as 'ing'\".format(w))"
   ]
  },
  {
   "cell_type": "markdown",
   "metadata": {},
   "source": [
    "### We could have used simple string method. What's powerful about regex? The answer is that it can match very complex pattern. But to see such examples, let's first explore `search` method."
   ]
  },
  {
   "cell_type": "code",
   "execution_count": 16,
   "metadata": {},
   "outputs": [],
   "source": [
    "prog = re.compile('ing')"
   ]
  },
  {
   "cell_type": "code",
   "execution_count": 17,
   "metadata": {},
   "outputs": [
    {
     "data": {
      "text/plain": [
       "<_sre.SRE_Match object; span=(3, 6), match='ing'>"
      ]
     },
     "execution_count": 17,
     "metadata": {},
     "output_type": "execute_result"
    }
   ],
   "source": [
    "prog.search('Spring')"
   ]
  },
  {
   "cell_type": "code",
   "execution_count": 18,
   "metadata": {},
   "outputs": [
    {
     "data": {
      "text/plain": [
       "<_sre.SRE_Match object; span=(1, 4), match='ing'>"
      ]
     },
     "execution_count": 18,
     "metadata": {},
     "output_type": "execute_result"
    }
   ],
   "source": [
    "prog.search('Ringtone')"
   ]
  },
  {
   "cell_type": "markdown",
   "metadata": {},
   "source": [
    "### Use the `span()` method of the `match` object, returned by `search`, to locate the position of the matched pattern"
   ]
  },
  {
   "cell_type": "code",
   "execution_count": 19,
   "metadata": {},
   "outputs": [
    {
     "name": "stdout",
     "output_type": "stream",
     "text": [
      "The word 'Spring' contains 'ing' in the position 3-6\n",
      "The word 'Cycling' contains 'ing' in the position 4-7\n",
      "The word 'Ringtone' contains 'ing' in the position 1-4\n"
     ]
    }
   ],
   "source": [
    "prog = re.compile(r'ing')\n",
    "words = ['Spring','Cycling','Ringtone']\n",
    "for w in words:\n",
    "    mt = prog.search(w)\n",
    "    # Span returns a tuple of start and end positions of the match\n",
    "    start_pos = mt.span()[0] # Starting position of the match\n",
    "    end_pos = mt.span()[1] # Ending position of the match\n",
    "    print(\"The word '{}' contains 'ing' in the position {}-{}\".format(w,start_pos,end_pos))"
   ]
  },
  {
   "cell_type": "markdown",
   "metadata": {},
   "source": [
    "### Examples of various single character pattern matching with `search`. Here we will also use `group()` method, which essentially returns the string matched."
   ]
  },
  {
   "cell_type": "markdown",
   "metadata": {},
   "source": [
    "#### Dot `.` matches any single character except newline character"
   ]
  },
  {
   "cell_type": "code",
   "execution_count": 20,
   "metadata": {},
   "outputs": [
    {
     "name": "stdout",
     "output_type": "stream",
     "text": [
      "pyg\n",
      "pyt\n"
     ]
    }
   ],
   "source": [
    "prog = re.compile(r'py.')\n",
    "print(prog.search('pygmy').group())\n",
    "print(prog.search('Jupyter').group())"
   ]
  },
  {
   "cell_type": "markdown",
   "metadata": {},
   "source": [
    "#### `\\w` (lowercase w) matches any single letter, digit or underscore"
   ]
  },
  {
   "cell_type": "code",
   "execution_count": 21,
   "metadata": {},
   "outputs": [
    {
     "name": "stdout",
     "output_type": "stream",
     "text": [
      "com\n",
      "cam\n",
      "c_m\n",
      "c2m\n"
     ]
    }
   ],
   "source": [
    "prog = re.compile(r'c\\wm')\n",
    "print(prog.search('comedy').group())\n",
    "print(prog.search('camera').group())\n",
    "print(prog.search('pac_man').group())\n",
    "print(prog.search('pac2man').group())"
   ]
  },
  {
   "cell_type": "markdown",
   "metadata": {},
   "source": [
    "#### `\\W` (uppercase W) matches anything not covered with `\\w`"
   ]
  },
  {
   "cell_type": "code",
   "execution_count": 22,
   "metadata": {},
   "outputs": [
    {
     "name": "stdout",
     "output_type": "stream",
     "text": [
      "9/11\n",
      "9-11\n",
      "9.11\n",
      "9/11\n"
     ]
    }
   ],
   "source": [
    "prog = re.compile(r'9\\W11')\n",
    "print(prog.search('9/11 was a terrible day!').group())\n",
    "print(prog.search('9-11 was a terrible day!').group())\n",
    "print(prog.search('9.11 was a terrible day!').group())\n",
    "print(prog.search('Remember the terrible day 09/11?').group())"
   ]
  },
  {
   "cell_type": "markdown",
   "metadata": {},
   "source": [
    "#### `\\s` (lowercase s) matches a single whitespace character like: space, newline, tab, return."
   ]
  },
  {
   "cell_type": "code",
   "execution_count": 23,
   "metadata": {},
   "outputs": [
    {
     "name": "stdout",
     "output_type": "stream",
     "text": [
      "Data wrangling\n",
      "--------------------------------------------------------------------------------\n",
      "Data\twrangling is the full string\n",
      "Data\twrangling\n",
      "--------------------------------------------------------------------------------\n",
      "Data\n",
      "wrangling is the full string\n",
      "Data\n",
      "wrangling\n"
     ]
    }
   ],
   "source": [
    "prog = re.compile(r'Data\\swrangling')\n",
    "\n",
    "print(prog.search(\"Data wrangling is cool\").group())\n",
    "print(\"-\"*80)\n",
    "print(\"Data\\twrangling is the full string\")\n",
    "print(prog.search(\"Data\\twrangling is the full string\").group())\n",
    "print(\"-\"*80)\n",
    "\n",
    "print(\"Data\\nwrangling is the full string\")\n",
    "print(prog.search(\"Data\\nwrangling\").group())"
   ]
  },
  {
   "cell_type": "markdown",
   "metadata": {},
   "source": [
    "#### `\\d` matches numerical digits 0 - 9"
   ]
  },
  {
   "cell_type": "code",
   "execution_count": 24,
   "metadata": {},
   "outputs": [
    {
     "name": "stdout",
     "output_type": "stream",
     "text": [
      "score was 67\n",
      "score was 73\n"
     ]
    }
   ],
   "source": [
    "prog = re.compile(r\"score was \\d\\d\")\n",
    "\n",
    "print(prog.search(\"My score was 67\").group())\n",
    "print(prog.search(\"Your score was 73\").group())"
   ]
  },
  {
   "cell_type": "markdown",
   "metadata": {},
   "source": [
    "### Examples of pattern matching either at the start or end of the string"
   ]
  },
  {
   "cell_type": "code",
   "execution_count": 25,
   "metadata": {},
   "outputs": [],
   "source": [
    "def print_match(s):\n",
    "    if prog.search(s)==None:\n",
    "        print(\"No match\")\n",
    "    else:\n",
    "        print(prog.search(s).group())"
   ]
  },
  {
   "cell_type": "markdown",
   "metadata": {},
   "source": [
    "#### `^` (Caret) matches a pattern at the start of the string"
   ]
  },
  {
   "cell_type": "code",
   "execution_count": 26,
   "metadata": {},
   "outputs": [
    {
     "name": "stdout",
     "output_type": "stream",
     "text": [
      "No match\n",
      "India\n",
      "No match\n"
     ]
    }
   ],
   "source": [
    "prog = re.compile(r'^India')\n",
    "\n",
    "print_match(\"Russia implemented this law\")\n",
    "print_match(\"India implemented that law\")\n",
    "print_match(\"This law was implemented by India\")"
   ]
  },
  {
   "cell_type": "markdown",
   "metadata": {},
   "source": [
    "#### `$` (dollar sign) matches a pattern at the end of the string"
   ]
  },
  {
   "cell_type": "code",
   "execution_count": 27,
   "metadata": {},
   "outputs": [
    {
     "name": "stdout",
     "output_type": "stream",
     "text": [
      "Apple\n",
      "No match\n",
      "Apple\n"
     ]
    }
   ],
   "source": [
    "prog = re.compile(r'Apple$')\n",
    "\n",
    "print_match(\"Patent no 123456 belongs to Apple\")\n",
    "print_match(\"Patent no 345672 belongs to Samsung\")\n",
    "print_match(\"Patent no 987654 belongs to Apple\")"
   ]
  },
  {
   "cell_type": "markdown",
   "metadata": {},
   "source": [
    "### Pattern matching with multiple characters"
   ]
  },
  {
   "cell_type": "markdown",
   "metadata": {},
   "source": [
    "#### `*` matches 0 or more repetitions of the preceding RE"
   ]
  },
  {
   "cell_type": "code",
   "execution_count": 28,
   "metadata": {},
   "outputs": [
    {
     "name": "stdout",
     "output_type": "stream",
     "text": [
      "a\n",
      "ab\n",
      "abbb\n",
      "No match\n",
      "ab\n",
      "abb\n"
     ]
    }
   ],
   "source": [
    "prog = re.compile(r'ab*')\n",
    "\n",
    "print_match(\"a\")\n",
    "print_match(\"ab\")\n",
    "print_match(\"abbb\")\n",
    "print_match(\"b\")\n",
    "print_match(\"bbab\")\n",
    "print_match(\"something_abb_something\")"
   ]
  },
  {
   "cell_type": "markdown",
   "metadata": {},
   "source": [
    "#### `+` causes the resulting RE to match 1 or more repetitions of the preceding RE"
   ]
  },
  {
   "cell_type": "code",
   "execution_count": 29,
   "metadata": {},
   "outputs": [
    {
     "name": "stdout",
     "output_type": "stream",
     "text": [
      "No match\n",
      "ab\n",
      "abbb\n",
      "No match\n",
      "ab\n",
      "abb\n"
     ]
    }
   ],
   "source": [
    "prog = re.compile(r'ab+')\n",
    "\n",
    "print_match(\"a\")\n",
    "print_match(\"ab\")\n",
    "print_match(\"abbb\")\n",
    "print_match(\"b\")\n",
    "print_match(\"bbab\")\n",
    "print_match(\"something_abb_something\")"
   ]
  },
  {
   "cell_type": "markdown",
   "metadata": {},
   "source": [
    "#### `?` causes the resulting RE to match precisely 0 or 1 repetitions of the preceding RE"
   ]
  },
  {
   "cell_type": "code",
   "execution_count": 30,
   "metadata": {},
   "outputs": [
    {
     "name": "stdout",
     "output_type": "stream",
     "text": [
      "a\n",
      "ab\n",
      "ab\n",
      "No match\n",
      "ab\n",
      "ab\n"
     ]
    }
   ],
   "source": [
    "prog = re.compile(r'ab?')\n",
    "\n",
    "print_match(\"a\")\n",
    "print_match(\"ab\")\n",
    "print_match(\"abbb\")\n",
    "print_match(\"b\")\n",
    "print_match(\"bbab\")\n",
    "print_match(\"something_abb_something\")"
   ]
  },
  {
   "cell_type": "markdown",
   "metadata": {},
   "source": [
    "### Greedy vs. non-greedy matching\n",
    "The default behavior of regular expressions is to be greedy. That means it tries to extract as much as possible until it conforms to a pattern even when a smaller part would have been syntactically sufficient.\n",
    "\n",
    "Lazy matching, on the other hand, ‘takes as little as possible’. This can be effected by adding a `?` at the end of the pattern."
   ]
  },
  {
   "cell_type": "code",
   "execution_count": 31,
   "metadata": {},
   "outputs": [
    {
     "name": "stdout",
     "output_type": "stream",
     "text": [
      "<a> b <c>\n"
     ]
    }
   ],
   "source": [
    "prog = re.compile(r'<.*>')\n",
    "print_match('<a> b <c>')"
   ]
  },
  {
   "cell_type": "code",
   "execution_count": 32,
   "metadata": {},
   "outputs": [
    {
     "name": "stdout",
     "output_type": "stream",
     "text": [
      "<a>\n"
     ]
    }
   ],
   "source": [
    "prog = re.compile(r'<.*?>')\n",
    "print_match('<a> b <c>')"
   ]
  },
  {
   "cell_type": "markdown",
   "metadata": {},
   "source": [
    "### Controlling how many repetitions to match"
   ]
  },
  {
   "cell_type": "markdown",
   "metadata": {},
   "source": [
    "#### `{m}` specifies exactly `m` copies of RE to match. Fewer matches cause a non-match and returns `None`"
   ]
  },
  {
   "cell_type": "code",
   "execution_count": 33,
   "metadata": {},
   "outputs": [
    {
     "name": "stdout",
     "output_type": "stream",
     "text": [
      "AAA\n",
      "AAA\n",
      "No match\n"
     ]
    }
   ],
   "source": [
    "prog = re.compile(r'A{3}')\n",
    "\n",
    "print_match(\"ccAAAdd\")\n",
    "print_match(\"ccAAAAdd\")\n",
    "print_match(\"ccAAdd\")"
   ]
  },
  {
   "cell_type": "markdown",
   "metadata": {},
   "source": [
    "#### `{m,n}` specifies exactly `m` to `n` copies of RE to match.  Omitting `m` specifies a lower bound of zero, and omitting `n` specifies an infinite upper bound."
   ]
  },
  {
   "cell_type": "code",
   "execution_count": 34,
   "metadata": {},
   "outputs": [
    {
     "name": "stdout",
     "output_type": "stream",
     "text": [
      "AAAB\n",
      "No match\n",
      "AAB\n",
      "AAAAB\n"
     ]
    }
   ],
   "source": [
    "prog = re.compile(r'A{2,4}B')\n",
    "\n",
    "print_match(\"ccAAABdd\")\n",
    "print_match(\"ccABdd\")\n",
    "print_match(\"ccAABBBdd\")\n",
    "print_match(\"ccAAAAAAABdd\")"
   ]
  },
  {
   "cell_type": "code",
   "execution_count": 35,
   "metadata": {},
   "outputs": [
    {
     "name": "stdout",
     "output_type": "stream",
     "text": [
      "AAAB\n",
      "AB\n",
      "AAB\n",
      "AAAB\n"
     ]
    }
   ],
   "source": [
    "prog = re.compile(r'A{,3}B')\n",
    "\n",
    "print_match(\"ccAAABdd\")\n",
    "print_match(\"ccABdd\")\n",
    "print_match(\"ccAABBBdd\")\n",
    "print_match(\"ccAAAAAAABdd\")"
   ]
  },
  {
   "cell_type": "code",
   "execution_count": 36,
   "metadata": {},
   "outputs": [
    {
     "name": "stdout",
     "output_type": "stream",
     "text": [
      "AAAB\n",
      "No match\n",
      "No match\n",
      "AAAAAAAB\n"
     ]
    }
   ],
   "source": [
    "prog = re.compile(r'A{3,}B')\n",
    "\n",
    "print_match(\"ccAAABdd\")\n",
    "print_match(\"ccABdd\")\n",
    "print_match(\"ccAABBBdd\")\n",
    "print_match(\"ccAAAAAAABdd\")"
   ]
  },
  {
   "cell_type": "markdown",
   "metadata": {},
   "source": [
    "#### `{m,n}?` specifies `m` to `n` copies of RE to match in a non-greedy fashion."
   ]
  },
  {
   "cell_type": "code",
   "execution_count": 37,
   "metadata": {},
   "outputs": [
    {
     "name": "stdout",
     "output_type": "stream",
     "text": [
      "AAAA\n",
      "AA\n"
     ]
    }
   ],
   "source": [
    "prog = re.compile(r'A{2,4}')\n",
    "print_match(\"AAAAAAA\")\n",
    "\n",
    "prog = re.compile(r'A{2,4}?')\n",
    "print_match(\"AAAAAAA\")"
   ]
  },
  {
   "cell_type": "markdown",
   "metadata": {},
   "source": [
    "### Sets of matching characters"
   ]
  },
  {
   "cell_type": "markdown",
   "metadata": {},
   "source": [
    "#### `[x,y,z]` matches x, y, or z"
   ]
  },
  {
   "cell_type": "code",
   "execution_count": 38,
   "metadata": {},
   "outputs": [
    {
     "name": "stdout",
     "output_type": "stream",
     "text": [
      "A\n",
      "A\n",
      "B\n",
      "No match\n"
     ]
    }
   ],
   "source": [
    "prog = re.compile(r'[A,B]')\n",
    "print_match(\"ccAd\")\n",
    "print_match(\"ccABd\")\n",
    "print_match(\"ccXdB\")\n",
    "print_match(\"ccXdZ\")"
   ]
  },
  {
   "cell_type": "markdown",
   "metadata": {},
   "source": [
    "#### A range of characters can be matched inside the set. This is one of the most widely used regex techniques!"
   ]
  },
  {
   "cell_type": "code",
   "execution_count": 39,
   "metadata": {},
   "outputs": [
    {
     "name": "stdout",
     "output_type": "stream",
     "text": [
      "coolguy@xyz.com\n",
      "No match\n"
     ]
    }
   ],
   "source": [
    "prog = re.compile(r'[a-zA-Z]+@+[a-zA-Z]+\\.com')\n",
    "\n",
    "print_match(\"My email is coolguy@xyz.com\")\n",
    "print_match(\"My email is coolguy12@xyz.com\")"
   ]
  },
  {
   "cell_type": "code",
   "execution_count": 40,
   "metadata": {},
   "outputs": [
    {
     "name": "stdout",
     "output_type": "stream",
     "text": [
      "coolguy12@xyz.com\n",
      "No match\n"
     ]
    }
   ],
   "source": [
    "prog = re.compile(r'[a-zA-Z0-9]+@+[a-zA-Z]+\\.com')\n",
    "\n",
    "print_match(\"My email is coolguy12@xyz.com\")\n",
    "print_match(\"My email is coolguy12@xyz.org\")"
   ]
  },
  {
   "cell_type": "code",
   "execution_count": 41,
   "metadata": {},
   "outputs": [
    {
     "name": "stdout",
     "output_type": "stream",
     "text": [
      "coolguy12@xy2z.org\n",
      "No match\n"
     ]
    }
   ],
   "source": [
    "prog = re.compile(r'\\w+@+\\w+\\.+[a-z]{2,4}')\n",
    "print_match(\"My email is coolguy12@xy2z.org\")\n",
    "print_match(\"My email is coolguy12[AT]xyz[DOT]org\")"
   ]
  },
  {
   "cell_type": "markdown",
   "metadata": {},
   "source": [
    "### Combining forces - OR-ing of regex using `|` - let us try extracting various types of phone numbers"
   ]
  },
  {
   "cell_type": "code",
   "execution_count": 42,
   "metadata": {},
   "outputs": [
    {
     "name": "stdout",
     "output_type": "stream",
     "text": [
      "3124567897\n",
      "No match\n"
     ]
    }
   ],
   "source": [
    "prog = re.compile(r'[0-9]{10}')\n",
    "\n",
    "print_match(\"3124567897\")\n",
    "print_match(\"312-456-7897\")"
   ]
  },
  {
   "cell_type": "code",
   "execution_count": 43,
   "metadata": {},
   "outputs": [
    {
     "name": "stdout",
     "output_type": "stream",
     "text": [
      "3124567897\n",
      "312-456-7897\n"
     ]
    }
   ],
   "source": [
    "prog = re.compile(r'[0-9]{10}|[0-9]{3}-[0-9]{3}-[0-9]{4}')\n",
    "\n",
    "print_match(\"3124567897\")\n",
    "print_match(\"312-456-7897\")"
   ]
  },
  {
   "cell_type": "code",
   "execution_count": 47,
   "metadata": {},
   "outputs": [
    {
     "name": "stdout",
     "output_type": "stream",
     "text": [
      "3124567897\n",
      " 312-456-7897\n",
      "(312)456-7897\n",
      "312.456.7897\n",
      "+22 312-456-7897\n"
     ]
    }
   ],
   "source": [
    "p0=r'\\+*\\d*\\s[0-9]{3}-[0-9]{3}-[0-9]{4}'\n",
    "p1= r'[0-9]{10}'\n",
    "p2=r'[0-9]{3}-[0-9]{3}-[0-9]{4}'\n",
    "p3 = r'\\([0-9]{3}\\)[0-9]{3}-[0-9]{4}'\n",
    "p4 = r'[0-9]{3}\\.[0-9]{3}\\.[0-9]{4}'\n",
    "pattern= p0+'|'+p1+'|'+p2+'|'+p3+'|'+p4\n",
    "prog = re.compile(pattern)\n",
    "\n",
    "print_match(\"A phone number 3124567897\")\n",
    "print_match(\"Another phone number 312-456-7897\")\n",
    "print_match(\"(312)456-7897 is my phone number\")\n",
    "print_match(\"I gave him 312.456.7897 as the phone number\")\n",
    "print_match(\"An international number +22 312-456-7897\")"
   ]
  },
  {
   "cell_type": "markdown",
   "metadata": {},
   "source": [
    "### `findall` method finds all the occurance of the pattern and return them as a list of strings"
   ]
  },
  {
   "cell_type": "code",
   "execution_count": 48,
   "metadata": {},
   "outputs": [
    {
     "name": "stdout",
     "output_type": "stream",
     "text": [
      "Here are some phone numbers. Pick out the numbers with 312 area code: \n",
      "312-423-3456, 456-334-6721, 312-5478-9999, 312-Not-a-Number,777.345.2317, 312.331.6789\n",
      "\n"
     ]
    },
    {
     "data": {
      "text/plain": [
       "['312-423-3456', '312-5478-9999', '312.331.6789']"
      ]
     },
     "execution_count": 48,
     "metadata": {},
     "output_type": "execute_result"
    }
   ],
   "source": [
    "ph_numbers = '''Here are some phone numbers. Pick out the numbers with 312 area code: \n",
    "312-423-3456, 456-334-6721, 312-5478-9999, 312-Not-a-Number,777.345.2317, 312.331.6789\n",
    "'''\n",
    "\n",
    "print(ph_numbers)\n",
    "re.findall('312+[-\\.][0-9-\\.]+',ph_numbers)"
   ]
  },
  {
   "cell_type": "markdown",
   "metadata": {},
   "source": [
    "### Use `split()` method to extract meaningful pieces of textual data from a string"
   ]
  },
  {
   "cell_type": "code",
   "execution_count": 49,
   "metadata": {},
   "outputs": [
    {
     "data": {
      "text/plain": [
       "['Some File', '.txt']"
      ]
     },
     "execution_count": 49,
     "metadata": {},
     "output_type": "execute_result"
    }
   ],
   "source": [
    "text = \"Some File.Ver10.Rev2.txt\"\n",
    "re.split('\\.Ver\\d+\\.Rev\\d+',text)"
   ]
  },
  {
   "cell_type": "code",
   "execution_count": 50,
   "metadata": {},
   "outputs": [
    {
     "data": {
      "text/plain": [
       "'A very very irregular sentence'"
      ]
     },
     "execution_count": 50,
     "metadata": {},
     "output_type": "execute_result"
    }
   ],
   "source": [
    "sentence = \"\"\"A, very   very; irregular_sentence\"\"\"\n",
    "\" \".join(re.split('[;,\\s_]+', sentence))"
   ]
  }
 ],
 "metadata": {
  "kernelspec": {
   "display_name": "Python 3",
   "language": "python",
   "name": "python3"
  },
  "language_info": {
   "codemirror_mode": {
    "name": "ipython",
    "version": 3
   },
   "file_extension": ".py",
   "mimetype": "text/x-python",
   "name": "python",
   "nbconvert_exporter": "python",
   "pygments_lexer": "ipython3",
   "version": "3.6.2"
  },
  "latex_envs": {
   "LaTeX_envs_menu_present": true,
   "autoclose": false,
   "autocomplete": true,
   "bibliofile": "biblio.bib",
   "cite_by": "apalike",
   "current_citInitial": 1,
   "eqLabelWithNumbers": true,
   "eqNumInitial": 1,
   "hotkeys": {
    "equation": "Ctrl-E",
    "itemize": "Ctrl-I"
   },
   "labels_anchors": false,
   "latex_user_defs": false,
   "report_style_numbering": false,
   "user_envs_cfg": false
  }
 },
 "nbformat": 4,
 "nbformat_minor": 2
}
